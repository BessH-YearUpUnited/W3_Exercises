{
 "cells": [
  {
   "cell_type": "code",
   "execution_count": 1,
   "id": "ed16146f-351d-4e29-8cb3-16a4fbb47ede",
   "metadata": {},
   "outputs": [
    {
     "name": "stdout",
     "output_type": "stream",
     "text": [
      "hello world\n"
     ]
    }
   ],
   "source": [
    "print('hello world')"
   ]
  },
  {
   "cell_type": "code",
   "execution_count": 5,
   "id": "6b46df14-fe40-43b0-9766-9e43bf2bc6c9",
   "metadata": {},
   "outputs": [],
   "source": [
    "v = 'hello'\n",
    "w = 'little girl'"
   ]
  },
  {
   "cell_type": "code",
   "execution_count": null,
   "id": "09365aa2-626b-49fa-b62a-e8797f6bfef9",
   "metadata": {},
   "outputs": [],
   "source": []
  }
 ],
 "metadata": {
  "kernelspec": {
   "display_name": "Python 3 (ipykernel)",
   "language": "python",
   "name": "python3"
  },
  "language_info": {
   "codemirror_mode": {
    "name": "ipython",
    "version": 3
   },
   "file_extension": ".py",
   "mimetype": "text/x-python",
   "name": "python",
   "nbconvert_exporter": "python",
   "pygments_lexer": "ipython3",
   "version": "3.12.3"
  }
 },
 "nbformat": 4,
 "nbformat_minor": 5
}
